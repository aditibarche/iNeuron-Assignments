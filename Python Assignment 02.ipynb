{
  "nbformat": 4,
  "nbformat_minor": 0,
  "metadata": {
    "colab": {
      "name": "Untitled0.ipynb",
      "provenance": []
    },
    "kernelspec": {
      "name": "python3",
      "display_name": "Python 3"
    }
  },
  "cells": [
    {
      "cell_type": "code",
      "metadata": {
        "id": "44BPn7zLaWij",
        "colab_type": "code",
        "colab": {
          "base_uri": "https://localhost:8080/",
          "height": 191
        },
        "outputId": "a568e743-b0ae-4d75-a73f-3f9ff207dcc7"
      },
      "source": [
        "i=1\n",
        "for x in range(0,4):\n",
        "    print(\"*\"*i)\n",
        "    i +=1\n",
        "for x in range(4,10):\n",
        "    print(\"*\"*i)\n",
        "    i -=1"
      ],
      "execution_count": 1,
      "outputs": [
        {
          "output_type": "stream",
          "text": [
            "*\n",
            "**\n",
            "***\n",
            "****\n",
            "*****\n",
            "****\n",
            "***\n",
            "**\n",
            "*\n",
            "\n"
          ],
          "name": "stdout"
        }
      ]
    },
    {
      "cell_type": "code",
      "metadata": {
        "id": "9KoR-SzbadVB",
        "colab_type": "code",
        "colab": {
          "base_uri": "https://localhost:8080/",
          "height": 52
        },
        "outputId": "e1cff576-4792-4826-b796-690eb65bbb21"
      },
      "source": [
        "word = input(\"Enter any word\")\n",
        "i = -1\n",
        "rev = \"\"\n",
        "for words in word:\n",
        "    rev = words + rev\n",
        "    \n",
        "print(rev)"
      ],
      "execution_count": 2,
      "outputs": [
        {
          "output_type": "stream",
          "text": [
            "Enter any wordpython\n",
            "nohtyp\n"
          ],
          "name": "stdout"
        }
      ]
    }
  ]
}